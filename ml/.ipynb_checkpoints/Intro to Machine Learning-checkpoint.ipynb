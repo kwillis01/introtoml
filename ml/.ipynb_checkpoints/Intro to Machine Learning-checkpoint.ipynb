{
 "cells": [
  {
   "cell_type": "markdown",
   "id": "4413b381",
   "metadata": {},
   "source": [
    "# Intro to Machine Learning\n",
    "\n",
    "In this workshop we will cover the basics of machine learning. We will discuss the basic princples of machine learning. This workshop will implement two ML models and the theory behind them. "
   ]
  },
  {
   "cell_type": "markdown",
   "id": "6bb574b8",
   "metadata": {},
   "source": [
    "## What is Machine Learning?\n",
    "\n",
    "Machine Learning is a subset of Artificial Intelligence that relies on the idea that machines and learn from data. It invokes a process that is used to identify different patterns in given data and make decisions without human intervention. Machine Learning has a number of applications in the field of data science including image processing, classification, language processing, and learning association. \n",
    "\n",
    "<img src=\"AI-Intro.png\" width='600'>\n",
    "\n",
    "#### How it Works\n",
    "It all essentially starts with the data. We feed data into a machine learning algorithm of our choosing (or creation) in order to train it. During training, the model will essentially start to recognize patterns from the data it is given and then is able to make the decisions you have designed it to make. \n",
    "\n",
    "## The Process\n",
    "We will now give an overview of each step in the machine learning model creation process. While these steps are not always set in stone it is the steps one takes as an ML engineer to carry out their work efficiently without too many hiccups.\n",
    "\n",
    "### Overview\n",
    "    1. Data collection and curation.\n",
    "    2. Extract features.\n",
    "    3. Select a model.\n",
    "    4. Experimental Design.\n",
    "    5. Train and test the model.\n",
    "    \n",
    "### Data collection and curation\n",
    "The first step will always be data cleaning. One of the problems with machine learning is that the data fed into the models should be pristine. Most models will result in errors if there is something wrong with data types or formatting. A good idea is to outline how you want your data to be formatted and then clean the data you get to those specifications.\n",
    "\n",
    "### Extract features\n",
    "Features are characteristics extracted from data that are used in machine learning algorithms to predict the output. For example for a cat, it's size, nose type, and eyes might be features used to tell the difference between it and a dog.\n",
    "\n",
    "### Select a model\n",
    "After you have a plan of what purpose you want your ML model to serve, you then have to choose/implement the model. This is a tricky process as there is a lot that goes into this step.\n",
    "\n",
    "#### Supervised learning\n",
    "The goal of supervised learning to determine a function. As a review of the basics, functions have inputs and outputs. Supervised learning uses data to come up with a function that fits the data. That way a prediction can be made when the model is introducted to a new data point. This type of machine learning requires that the data have inputs and sample outputs for each data point to use to train the model. This is the most popular method of learning used by data scientists to implement in the field.\n",
    "\n",
    "#### Unsupervised learning\n",
    "The goal of unsupervised learning is determine hidden patterns in the data from unlabeled data (data with just input points and no outputs). Its is mainly used for processes like anomaly detection ot data pre-processing. It is also used to sometimes pre-train data and provide outputs values that can then be used in supervised learning models (semi-supervised learning).\n",
    "\n",
    "### Experimental design\n",
    "The goal of experimental design is to find the best parameters for your model. One popular way to do this is through K fold cross validation. The data is divided into training data and testing data. The training data is then further split into K-1 training and 1 validation segments. The validation segment will change K times. This gives us an idea if our model is robust and accurate since we can get accuracy scores from it.\n",
    "\n",
    "<img src=\"grid_search_cross_validation.png\" width='600'>\n",
    "\n",
    "### Train and test model\n",
    "Training the model means that training data is fed into the model to make it accurate for the whole data set. Testing the model is seeing how accurate the model is at predicting based off of the testing data. You want to make sure you are not overfitting your model, which is where you train your model to a point that it is not learning the general patterns, but it is learning the specific points.\n"
   ]
  },
  {
   "cell_type": "markdown",
   "id": "8a2627e6",
   "metadata": {},
   "source": [
    "## Polynomial Regression\n",
    "This is a regression model meaning that the model is a predictive polynomial. This is similar to linear regression which you would learn in statistics. We will be using a simple "
   ]
  },
  {
   "cell_type": "code",
   "execution_count": 121,
   "id": "bbdb9e65",
   "metadata": {},
   "outputs": [],
   "source": [
    "def plotData(x1,t1,x2=None,t2=None,x3=None,t3=None,legend=[]):\n",
    "    '''plotData(x1,t1,x2,t2,x3=None,t3=None,legend=[]): Generate a plot of the \n",
    "       training data, the true function, and the estimated function'''\n",
    "    p1 = plt.plot(x1, t1, 'bo') #plot training data\n",
    "    if(x2 is not None):\n",
    "        p2 = plt.plot(x2, t2, 'g') #plot true value\n",
    "    if(x3 is not None):\n",
    "        p3 = plt.plot(x3, t3, 'r') #plot training data\n",
    "\n",
    "    #add title, legend and axes labels\n",
    "    plt.ylabel('t') #label x and y axes\n",
    "    plt.xlabel('x')\n",
    "    \n",
    "    if(x2 is None):\n",
    "        plt.legend((p1[0]),legend)\n",
    "    if(x3 is None):\n",
    "        plt.legend((p1[0],p2[0]),legend)\n",
    "    else:\n",
    "        plt.legend((p1[0],p2[0],p3[0]),legend) "
   ]
  },
  {
   "cell_type": "code",
   "execution_count": 145,
   "id": "22f44918",
   "metadata": {},
   "outputs": [],
   "source": [
    "def generateData(n, x_std_var, y_std_var):\n",
    "    x = 2 - 3 * np.random.normal(0, x_std_var, n)\n",
    "    y = x - 2 * (x ** 2) + 0.5 * (x ** 3) + np.random.normal(0, y_std_var, n)\n",
    "    return x, y"
   ]
  },
  {
   "cell_type": "code",
   "execution_count": 146,
   "id": "9265572a",
   "metadata": {},
   "outputs": [],
   "source": [
    "import numpy as np\n",
    "import matplotlib.pyplot as plt\n",
    "from sklearn.linear_model import LinearRegression\n",
    "from sklearn.metrics.pairwise import rbf_kernel\n",
    "from sklearn import datasets\n",
    "\n",
    "# make random x^3 polynomial\n",
    "# make test and train data\n",
    "x_train, y_train = generateData(20, 1, 3)\n",
    "x_test, y_out = generateData(200, .5, 3)\n"
   ]
  },
  {
   "cell_type": "code",
   "execution_count": 147,
   "id": "b01efe91",
   "metadata": {},
   "outputs": [
    {
     "data": {
      "image/png": "[encoded data removed]",
      "text/plain": [
       "<Figure size 432x288 with 1 Axes>"
      ]
     },
     "metadata": {
      "needs_background": "light"
     },
     "output_type": "display_data"
    }
   ],
   "source": [
    "plt.scatter(x_train,y_train, s=10)\n",
    "plt.show()"
   ]
  },
  {
   "cell_type": "code",
   "execution_count": 148,
   "id": "9be0d918",
   "metadata": {},
   "outputs": [
    {
     "data": {
      "image/png": "[encoded data removed]",
      "text/plain": [
       "<Figure size 432x288 with 1 Axes>"
      ]
     },
     "metadata": {
      "needs_background": "light"
     },
     "output_type": "display_data"
    }
   ],
   "source": [
    "plt.scatter(x_test,y_out, s=10)\n",
    "plt.show()"
   ]
  },
  {
   "cell_type": "code",
   "execution_count": 149,
   "id": "1c2e2281",
   "metadata": {},
   "outputs": [],
   "source": [
    "# rbf feature extraction for training\n",
    "gam = 0\n",
    "X_train = rbf_kernel(x_train.reshape(-1,1), x_train.reshape(-1,1), gam)\n",
    "\n",
    "# train\n",
    "reg = LinearRegression().fit(X_train, y_train)"
   ]
  },
  {
   "cell_type": "code",
   "execution_count": 150,
   "id": "debd4b0c",
   "metadata": {},
   "outputs": [
    {
     "ename": "TypeError",
     "evalue": "predict() takes 2 positional arguments but 3 were given",
     "output_type": "error",
     "traceback": [
      "\u001b[1;31m---------------------------------------------------------------------------\u001b[0m",
      "\u001b[1;31mTypeError\u001b[0m                                 Traceback (most recent call last)",
      "\u001b[1;32m<ipython-input-150-bb7adb87b217>\u001b[0m in \u001b[0;36m<module>\u001b[1;34m\u001b[0m\n\u001b[0;32m      3\u001b[0m \u001b[1;33m\u001b[0m\u001b[0m\n\u001b[0;32m      4\u001b[0m \u001b[1;31m# test\u001b[0m\u001b[1;33m\u001b[0m\u001b[1;33m\u001b[0m\u001b[1;33m\u001b[0m\u001b[0m\n\u001b[1;32m----> 5\u001b[1;33m \u001b[0mreg\u001b[0m \u001b[1;33m=\u001b[0m \u001b[0mLinearRegression\u001b[0m\u001b[1;33m(\u001b[0m\u001b[1;33m)\u001b[0m\u001b[1;33m.\u001b[0m\u001b[0mpredict\u001b[0m\u001b[1;33m(\u001b[0m\u001b[0mX_test\u001b[0m\u001b[1;33m,\u001b[0m \u001b[0my_test\u001b[0m\u001b[1;33m)\u001b[0m\u001b[1;33m\u001b[0m\u001b[1;33m\u001b[0m\u001b[0m\n\u001b[0m",
      "\u001b[1;31mTypeError\u001b[0m: predict() takes 2 positional arguments but 3 were given"
     ]
    }
   ],
   "source": [
    "# rbf feature extraction for testing\n",
    "X_test = rbf_kernel(x_test.reshape(-1,1), x_train.reshape(-1,1), gam)\n",
    "\n",
    "# test\n",
    "y_test = reg.predict(X_test)"
   ]
  },
  {
   "cell_type": "code",
   "execution_count": null,
   "id": "7b7f4ea0",
   "metadata": {},
   "outputs": [],
   "source": [
    "# true function\n",
    "x = x2 = np.arange(1,0,0.001)\n",
    "y = x - 2 * (x ** 2) + 0.5 * (x ** 3)\n",
    "\n",
    "plotData(x_train,y_train,x_test,y_test,x,y,['Training Data', 'True Function', 'Estimated\\nPolynomial'])"
   ]
  }
 ],
 "metadata": {
  "kernelspec": {
   "display_name": "Python 3",
   "language": "python",
   "name": "python3"
  },
  "language_info": {
   "codemirror_mode": {
    "name": "ipython",
    "version": 3
   },
   "file_extension": ".py",
   "mimetype": "text/x-python",
   "name": "python",
   "nbconvert_exporter": "python",
   "pygments_lexer": "ipython3",
   "version": "3.8.8"
  }
 },
 "nbformat": 4,
 "nbformat_minor": 5
}
